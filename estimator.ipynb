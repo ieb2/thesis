{
  "cells": [
    {
      "cell_type": "markdown",
      "metadata": {},
      "source": [
        "# The Proposed Jackknife Estimator \n",
        "\n",
        "\n",
        "```{js}\n",
        "window.addEventListener('load', (event) => {\n",
        "  elem = document.querySelectorAll(\".algorithm\")\n",
        "  elem.forEach(e => {\n",
        "    pseudocode.renderElement(e, {lineNumber: true, lineNumberPunc: ' '});\n",
        "  })\n",
        "});\n",
        "```\n",
        "\n",
        "\n",
        "```{.algorithm}\n",
        "% This quicksort algorithm is extracted from Chapter 7, Introduction to Algorithms (3rd edition)\n",
        "\\begin{algorithm}\n",
        "\\caption{Quicksort}\n",
        "\\begin{algorithmic}\n",
        "\\PROCEDURE{Quicksort}{$A, p, r$}\n",
        "    \\IF{$p < r$} \n",
        "        \\STATE $q = $ \\CALL{Partition}{$A, p, r$}\n",
        "        \\STATE \\CALL{Quicksort}{$A, p, q - 1$}\n",
        "        \\STATE \\CALL{Quicksort}{$A, q + 1, r$}\n",
        "    \\ENDIF\n",
        "\\ENDPROCEDURE\n",
        "\\PROCEDURE{Partition}{$A, p, r$}\n",
        "    \\STATE $x = A[r]$\n",
        "    \\STATE $i = p - 1$\n",
        "    \\FOR{$j = p$ \\TO $r - 1$}\n",
        "        \\IF{$A[j] < x$}\n",
        "            \\STATE $i = i + 1$\n",
        "            \\STATE exchange\n",
        "            $A[i]$ with $A[j]$\n",
        "        \\ENDIF\n",
        "        \\STATE exchange $A[i]$ with $A[r]$\n",
        "    \\ENDFOR\n",
        "\\ENDPROCEDURE\n",
        "\\end{algorithmic}\n",
        "\\end{algorithm}\n",
        "```"
      ],
      "id": "d9492ae1"
    }
  ],
  "metadata": {
    "kernelspec": {
      "display_name": "Python 3",
      "language": "python",
      "name": "python3"
    }
  },
  "nbformat": 4,
  "nbformat_minor": 5
}